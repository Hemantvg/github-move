{
  "nbformat": 4,
  "nbformat_minor": 0,
  "metadata": {
    "colab": {
      "name": "Test The Model.ipynb",
      "provenance": [],
      "authorship_tag": "ABX9TyOV0/4wPHNZ5JKsXaSyqvbF",
      "include_colab_link": true
    },
    "kernelspec": {
      "name": "python3",
      "display_name": "Python 3"
    },
    "language_info": {
      "name": "python"
    }
  },
  "cells": [
    {
      "cell_type": "markdown",
      "metadata": {
        "id": "view-in-github",
        "colab_type": "text"
      },
      "source": [
        "<a href=\"https://colab.research.google.com/github/Hemantvg/github-move/blob/add-headers/Test_The_Model.ipynb\" target=\"_parent\"><img src=\"https://colab.research.google.com/assets/colab-badge.svg\" alt=\"Open In Colab\"/></a>"
      ]
    },
    {
      "cell_type": "code",
      "metadata": {
        "id": "Kqmcm3vooC8y"
      },
      "source": [
        "from keras.models import load_model\n",
        "import numpy as np\n",
        "import cv2\n",
        "from keras.models import load_model"
      ],
      "execution_count": 1,
      "outputs": []
    },
    {
      "cell_type": "code",
      "metadata": {
        "id": "aODEIzc1ocIR"
      },
      "source": [
        "model = load_model('iceberg.h5')"
      ],
      "execution_count": 4,
      "outputs": []
    },
    {
      "cell_type": "code",
      "metadata": {
        "id": "U6PAC5O9pQUl"
      },
      "source": [
        "from skimage.transform import resize"
      ],
      "execution_count": 5,
      "outputs": []
    },
    {
      "cell_type": "code",
      "metadata": {
        "id": "oabSzTDypbxB"
      },
      "source": [
        "def detect(frame):\n",
        "        img = resize(frame,(75,75))\n",
        "        img = np.expand_dims(img,axis=0)\n",
        "        if(np.max(img)>1):\n",
        "          img = img/255.0\n",
        "        prediction = model.predict(img)\n",
        "        print(prediction)\n",
        "        prediction = model.predict_classes(img)\n",
        "        print(prediction)"
      ],
      "execution_count": 6,
      "outputs": []
    },
    {
      "cell_type": "code",
      "metadata": {
        "colab": {
          "base_uri": "https://localhost:8080/"
        },
        "id": "rukG1jSQqSB_",
        "outputId": "224d9809-c173-450c-b0e5-73487a78f391"
      },
      "source": [
        "frame=cv2.imread(r\"iceberg.jpg.png\")\n",
        "data = detect(frame)"
      ],
      "execution_count": 7,
      "outputs": [
        {
          "output_type": "stream",
          "text": [
            "[[0.7949052]]\n",
            "[[1]]\n"
          ],
          "name": "stdout"
        },
        {
          "output_type": "stream",
          "text": [
            "/usr/local/lib/python3.7/dist-packages/keras/engine/sequential.py:450: UserWarning: `model.predict_classes()` is deprecated and will be removed after 2021-01-01. Please use instead:* `np.argmax(model.predict(x), axis=-1)`,   if your model does multi-class classification   (e.g. if it uses a `softmax` last-layer activation).* `(model.predict(x) > 0.5).astype(\"int32\")`,   if your model does binary classification   (e.g. if it uses a `sigmoid` last-layer activation).\n",
            "  warnings.warn('`model.predict_classes()` is deprecated and '\n"
          ],
          "name": "stderr"
        }
      ]
    }
  ]
}